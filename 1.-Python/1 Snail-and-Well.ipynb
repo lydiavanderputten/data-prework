{
 "cells": [
  {
   "cell_type": "code",
   "execution_count": 1,
   "id": "32517d57",
   "metadata": {},
   "outputs": [],
   "source": [
    "well_height = 125\n",
    "daily_distance = 30\n",
    "nightly_distance = - 20\n",
    "snail_position = 0\n",
    "total_days = 0\n",
    "total_cms = 0\n"
   ]
  },
  {
   "cell_type": "code",
   "execution_count": 2,
   "id": "9ded75b7",
   "metadata": {},
   "outputs": [
    {
     "ename": "SyntaxError",
     "evalue": "unexpected EOF while parsing (<ipython-input-2-cc81099fe61e>, line 2)",
     "output_type": "error",
     "traceback": [
      "\u001b[1;36m  File \u001b[1;32m\"<ipython-input-2-cc81099fe61e>\"\u001b[1;36m, line \u001b[1;32m2\u001b[0m\n\u001b[1;33m    while snail_position <= well_height:\u001b[0m\n\u001b[1;37m                                        ^\u001b[0m\n\u001b[1;31mSyntaxError\u001b[0m\u001b[1;31m:\u001b[0m unexpected EOF while parsing\n"
     ]
    }
   ],
   "source": [
    "snail_not_escaped = True\n",
    "while snail_position <= well_height:"
   ]
  },
  {
   "cell_type": "code",
   "execution_count": null,
   "id": "09533173",
   "metadata": {},
   "outputs": [],
   "source": [
    "if snail_position >= well_height:\n",
    "        snail_not_escaped = False"
   ]
  },
  {
   "cell_type": "code",
   "execution_count": null,
   "id": "cdc9d06f",
   "metadata": {},
   "outputs": [],
   "source": [
    "Print(\"snail gets out of the well\", days)"
   ]
  }
 ],
 "metadata": {
  "kernelspec": {
   "display_name": "Python 3",
   "language": "python",
   "name": "python3"
  },
  "language_info": {
   "codemirror_mode": {
    "name": "ipython",
    "version": 3
   },
   "file_extension": ".py",
   "mimetype": "text/x-python",
   "name": "python",
   "nbconvert_exporter": "python",
   "pygments_lexer": "ipython3",
   "version": "3.8.8"
  }
 },
 "nbformat": 4,
 "nbformat_minor": 5
}
