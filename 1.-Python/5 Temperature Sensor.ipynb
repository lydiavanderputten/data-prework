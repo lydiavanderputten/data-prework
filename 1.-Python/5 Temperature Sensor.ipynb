{
 "cells": [
  {
   "cell_type": "code",
   "execution_count": 1,
   "id": "9ebaab4e",
   "metadata": {},
   "outputs": [],
   "source": [
    "temperatures_C = [33, 66, 65, 0, 59, 60, 62, 64, 70, 76, 80, 81, 80, 83, 90, 79, 61, 53, 50, 49, 53, 48, 45, 39]"
   ]
  },
  {
   "cell_type": "code",
   "execution_count": 12,
   "id": "46fd9a4d",
   "metadata": {},
   "outputs": [
    {
     "data": {
      "text/plain": [
       "0"
      ]
     },
     "execution_count": 12,
     "metadata": {},
     "output_type": "execute_result"
    }
   ],
   "source": [
    "min(temperatures_C)"
   ]
  },
  {
   "cell_type": "code",
   "execution_count": 13,
   "id": "fa9009b3",
   "metadata": {},
   "outputs": [
    {
     "data": {
      "text/plain": [
       "90"
      ]
     },
     "execution_count": 13,
     "metadata": {},
     "output_type": "execute_result"
    }
   ],
   "source": [
    "max(temperatures_C)"
   ]
  },
  {
   "cell_type": "code",
   "execution_count": 18,
   "id": "7976d785",
   "metadata": {},
   "outputs": [
    {
     "ename": "SyntaxError",
     "evalue": "invalid syntax (<ipython-input-18-b04fb39666e0>, line 1)",
     "output_type": "error",
     "traceback": [
      "\u001b[1;36m  File \u001b[1;32m\"<ipython-input-18-b04fb39666e0>\"\u001b[1;36m, line \u001b[1;32m1\u001b[0m\n\u001b[1;33m    temperatures_C.sort(>= 70)\u001b[0m\n\u001b[1;37m                        ^\u001b[0m\n\u001b[1;31mSyntaxError\u001b[0m\u001b[1;31m:\u001b[0m invalid syntax\n"
     ]
    }
   ],
   "source": [
    "temperatures_C.sort(>= 70) \n",
    "temperatures_C"
   ]
  },
  {
   "cell_type": "code",
   "execution_count": 19,
   "id": "c86a74f7",
   "metadata": {},
   "outputs": [
    {
     "data": {
      "text/plain": [
       "60.25"
      ]
     },
     "execution_count": 19,
     "metadata": {},
     "output_type": "execute_result"
    }
   ],
   "source": [
    "sum(temperatures_C)/len(temperatures_C)"
   ]
  },
  {
   "cell_type": "code",
   "execution_count": 27,
   "id": "1fb2dbe1",
   "metadata": {},
   "outputs": [
    {
     "ename": "SyntaxError",
     "evalue": "cannot assign to function call (<ipython-input-27-dab12d66ce30>, line 2)",
     "output_type": "error",
     "traceback": [
      "\u001b[1;36m  File \u001b[1;32m\"<ipython-input-27-dab12d66ce30>\"\u001b[1;36m, line \u001b[1;32m2\u001b[0m\n\u001b[1;33m    len(temperatures_C) += i\u001b[0m\n\u001b[1;37m    ^\u001b[0m\n\u001b[1;31mSyntaxError\u001b[0m\u001b[1;31m:\u001b[0m cannot assign to function call\n"
     ]
    }
   ],
   "source": [
    "for i in temperatures_C:\n",
    "    len(temperatures_C) += i\n",
    "  "
   ]
  },
  {
   "cell_type": "code",
   "execution_count": 28,
   "id": "b08732ab",
   "metadata": {},
   "outputs": [
    {
     "ename": "SyntaxError",
     "evalue": "invalid syntax (<ipython-input-28-6c76b815f731>, line 10)",
     "output_type": "error",
     "traceback": [
      "\u001b[1;36m  File \u001b[1;32m\"<ipython-input-28-6c76b815f731>\"\u001b[1;36m, line \u001b[1;32m10\u001b[0m\n\u001b[1;33m    Print (cooling systeem needs to be changed, temperatures_C)\u001b[0m\n\u001b[1;37m                   ^\u001b[0m\n\u001b[1;31mSyntaxError\u001b[0m\u001b[1;31m:\u001b[0m invalid syntax\n"
     ]
    }
   ],
   "source": [
    "temperatures_C = True\n",
    " \n",
    "if Temperatures_C >= 70:\n",
    "    print(\"cooling system needs to be replaced\")\n",
    "elif temperature_C > 80:\n",
    "    print(\"cooling system needs to be replaced\")\n",
    "elif lentemperatures_C> 65:\n",
    "    print(\"cooling system needs to be replaced\")\n",
    "    \n",
    "Print (cooling systeem needs to be changed, temperatures_C)"
   ]
  },
  {
   "cell_type": "code",
   "execution_count": null,
   "id": "e893cf96",
   "metadata": {},
   "outputs": [],
   "source": []
  }
 ],
 "metadata": {
  "kernelspec": {
   "display_name": "Python 3",
   "language": "python",
   "name": "python3"
  },
  "language_info": {
   "codemirror_mode": {
    "name": "ipython",
    "version": 3
   },
   "file_extension": ".py",
   "mimetype": "text/x-python",
   "name": "python",
   "nbconvert_exporter": "python",
   "pygments_lexer": "ipython3",
   "version": "3.8.8"
  }
 },
 "nbformat": 4,
 "nbformat_minor": 5
}
