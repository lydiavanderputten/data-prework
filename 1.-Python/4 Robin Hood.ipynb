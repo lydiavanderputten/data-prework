{
 "cells": [
  {
   "cell_type": "code",
   "execution_count": 3,
   "id": "a4ace406",
   "metadata": {},
   "outputs": [],
   "source": [
    "points = [(4, 5), (-0, 2), (4, 7), (1, -3), (3, -2), (4, 5), (3, 2), (5, 7), (-5, 7), (2, 2), (-4, 5), (0, -2),\n",
    "          (-4, 7), (-1, 3), (-3, 2), (-4, -5), (-3, 2), (5, 7), (5, 7), (2, 2), (9, 9), (-8, -9)]"
   ]
  },
  {
   "cell_type": "code",
   "execution_count": 4,
   "id": "9890f1e9",
   "metadata": {},
   "outputs": [
    {
     "ename": "SyntaxError",
     "evalue": "invalid syntax (<ipython-input-4-0edb1f2445bc>, line 1)",
     "output_type": "error",
     "traceback": [
      "\u001b[1;36m  File \u001b[1;32m\"<ipython-input-4-0edb1f2445bc>\"\u001b[1;36m, line \u001b[1;32m1\u001b[0m\n\u001b[1;33m    Points (x = = y)\u001b[0m\n\u001b[1;37m                ^\u001b[0m\n\u001b[1;31mSyntaxError\u001b[0m\u001b[1;31m:\u001b[0m invalid syntax\n"
     ]
    }
   ],
   "source": [
    "Points (x = = y)"
   ]
  },
  {
   "cell_type": "code",
   "execution_count": null,
   "id": "837a71bd",
   "metadata": {},
   "outputs": [],
   "source": [
    "For c in points:\n",
    "    if c[0]>0 & c[1]>0:\n",
    "        print (\"Q1\")\n",
    "    elif c[0]>o & c[1]>0:\n",
    "        print (\"Q2)\n",
    "    elif c[0] & c[1]>0:\n",
    "        print (\"Q3)\n",
    "    elif c[0] & c[1]>0\n",
    "        print (\"Q4\")\n",
    "    else: \n",
    "               print (\"no quadrant\")"
   ]
  },
  {
   "cell_type": "code",
   "execution_count": null,
   "id": "5b5b9dc7",
   "metadata": {},
   "outputs": [],
   "source": [
    "distances_dictionary = dict(zip, points, list, distance)"
   ]
  },
  {
   "cell_type": "code",
   "execution_count": null,
   "id": "1c97cdce",
   "metadata": {},
   "outputs": [],
   "source": []
  }
 ],
 "metadata": {
  "kernelspec": {
   "display_name": "Python 3",
   "language": "python",
   "name": "python3"
  },
  "language_info": {
   "codemirror_mode": {
    "name": "ipython",
    "version": 3
   },
   "file_extension": ".py",
   "mimetype": "text/x-python",
   "name": "python",
   "nbconvert_exporter": "python",
   "pygments_lexer": "ipython3",
   "version": "3.8.8"
  }
 },
 "nbformat": 4,
 "nbformat_minor": 5
}
