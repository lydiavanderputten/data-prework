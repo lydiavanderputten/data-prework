{
 "cells": [
  {
   "cell_type": "code",
   "execution_count": 6,
   "id": "ca75fe9d",
   "metadata": {},
   "outputs": [],
   "source": [
    "import random"
   ]
  },
  {
   "cell_type": "code",
   "execution_count": 7,
   "id": "060f57e5",
   "metadata": {},
   "outputs": [],
   "source": [
    "gesture_options = [\"rock\", \"paper\", \"scissors\"]"
   ]
  },
  {
   "cell_type": "code",
   "execution_count": 12,
   "id": "8c213a14",
   "metadata": {},
   "outputs": [],
   "source": [
    " n_rounds =[1, 3, 5]"
   ]
  },
  {
   "cell_type": "code",
   "execution_count": 13,
   "id": "30e37e69",
   "metadata": {},
   "outputs": [],
   "source": [
    "rounds_to_win = 5"
   ]
  },
  {
   "cell_type": "code",
   "execution_count": 15,
   "id": "0bef2d09",
   "metadata": {},
   "outputs": [],
   "source": [
    "cpu_score = 0\n",
    "player_score = 0 "
   ]
  },
  {
   "cell_type": "code",
   "execution_count": 16,
   "id": "b63b66ed",
   "metadata": {},
   "outputs": [
    {
     "ename": "SyntaxError",
     "evalue": "invalid syntax (<ipython-input-16-5e1a39525762>, line 1)",
     "output_type": "error",
     "traceback": [
      "\u001b[1;36m  File \u001b[1;32m\"<ipython-input-16-5e1a39525762>\"\u001b[1;36m, line \u001b[1;32m1\u001b[0m\n\u001b[1;33m    cpu_choice:\u001b[0m\n\u001b[1;37m               ^\u001b[0m\n\u001b[1;31mSyntaxError\u001b[0m\u001b[1;31m:\u001b[0m invalid syntax\n"
     ]
    }
   ],
   "source": [
    "cpu_choice:\n",
    "    import random\n",
    "    gesture_options = [\"rock\", \"paper\", \"scissors\"]\n",
    "    "
   ]
  },
  {
   "cell_type": "code",
   "execution_count": 19,
   "id": "a12c07a2",
   "metadata": {},
   "outputs": [
    {
     "ename": "SyntaxError",
     "evalue": "invalid syntax (<ipython-input-19-5ae3ac5d52a2>, line 1)",
     "output_type": "error",
     "traceback": [
      "\u001b[1;36m  File \u001b[1;32m\"<ipython-input-19-5ae3ac5d52a2>\"\u001b[1;36m, line \u001b[1;32m1\u001b[0m\n\u001b[1;33m    player_choice:\u001b[0m\n\u001b[1;37m                  ^\u001b[0m\n\u001b[1;31mSyntaxError\u001b[0m\u001b[1;31m:\u001b[0m invalid syntax\n"
     ]
    }
   ],
   "source": [
    "player_choice:\n",
    "    choice = input(\"enter gesture rock, paper or scissor\")\n",
    "    return choice"
   ]
  },
  {
   "cell_type": "code",
   "execution_count": 23,
   "id": "1edda2e1",
   "metadata": {},
   "outputs": [
    {
     "ename": "SyntaxError",
     "evalue": "invalid syntax (<ipython-input-23-73dad2851be2>, line 1)",
     "output_type": "error",
     "traceback": [
      "\u001b[1;36m  File \u001b[1;32m\"<ipython-input-23-73dad2851be2>\"\u001b[1;36m, line \u001b[1;32m1\u001b[0m\n\u001b[1;33m    def scores ()\u001b[0m\n\u001b[1;37m                 ^\u001b[0m\n\u001b[1;31mSyntaxError\u001b[0m\u001b[1;31m:\u001b[0m invalid syntax\n"
     ]
    }
   ],
   "source": [
    "def scores ()\n",
    "if (cpu_choice == \"paper\") and (player_choice == \"rock\")\n",
    "cpu_score = 1\n",
    "elif (cpu_choice == \"rock\") and (player_choice == \"scissors\")\n",
    "cpu_score = 1\n",
    "elif (cpu_choice == \"paper\") and (player_choice == \"scissors\")\n",
    "player_score = 1\n",
    "elif (cpu_choice == \"rock\") and (player_choice == \"paper\")\n",
    "player_score = 1\n",
    "elif (cpu_choice == \"scissors\") and (player_choice == \"paper\")\n",
    "player_score = 1\n",
    "elif (cpu_choice == \"scissors\") and (player_choice == \"rock\")\n",
    "player_score = 1"
   ]
  },
  {
   "cell_type": "code",
   "execution_count": null,
   "id": "49193c70",
   "metadata": {},
   "outputs": [],
   "source": [
    "else: cpu_score = 0 \n",
    "      player_score = 0 "
   ]
  },
  {
   "cell_type": "code",
   "execution_count": 20,
   "id": "ade4199f",
   "metadata": {},
   "outputs": [
    {
     "name": "stdout",
     "output_type": "stream",
     "text": [
      "0 0\n"
     ]
    }
   ],
   "source": [
    "print(cpu_score, player_score)"
   ]
  }
 ],
 "metadata": {
  "kernelspec": {
   "display_name": "Python 3",
   "language": "python",
   "name": "python3"
  },
  "language_info": {
   "codemirror_mode": {
    "name": "ipython",
    "version": 3
   },
   "file_extension": ".py",
   "mimetype": "text/x-python",
   "name": "python",
   "nbconvert_exporter": "python",
   "pygments_lexer": "ipython3",
   "version": "3.8.8"
  }
 },
 "nbformat": 4,
 "nbformat_minor": 5
}
