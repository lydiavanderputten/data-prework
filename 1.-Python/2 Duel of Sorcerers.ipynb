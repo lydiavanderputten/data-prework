{
 "cells": [
  {
   "cell_type": "code",
   "execution_count": 1,
   "id": "f4549eff",
   "metadata": {},
   "outputs": [],
   "source": [
    "spells = 10\n",
    "gandalf = [10, 11, 13, 30, 22, 11, 10, 33, 22, 22]\n",
    "saruman = [23, 66, 12, 43, 12, 10, 44, 23, 12, 17]"
   ]
  },
  {
   "cell_type": "code",
   "execution_count": 2,
   "id": "0633c60e",
   "metadata": {},
   "outputs": [],
   "source": [
    "gandalf_wins = 0\n",
    "saruman_wins = 0    "
   ]
  },
  {
   "cell_type": "code",
   "execution_count": 2,
   "id": "76d88ab0",
   "metadata": {},
   "outputs": [
    {
     "ename": "SyntaxError",
     "evalue": "invalid syntax (<ipython-input-2-c0ec87d09554>, line 1)",
     "output_type": "error",
     "traceback": [
      "\u001b[1;36m  File \u001b[1;32m\"<ipython-input-2-c0ec87d09554>\"\u001b[1;36m, line \u001b[1;32m1\u001b[0m\n\u001b[1;33m    for spells:\u001b[0m\n\u001b[1;37m              ^\u001b[0m\n\u001b[1;31mSyntaxError\u001b[0m\u001b[1;31m:\u001b[0m invalid syntax\n"
     ]
    }
   ],
   "source": [
    "for spells:\n",
    "    if gandalf > saruman:\n",
    "        gandalf_wins = 1\n",
    "    elif saruman > gandalf:\n",
    "        saruman_wins = 1"
   ]
  },
  {
   "cell_type": "code",
   "execution_count": 4,
   "id": "6b84dc37",
   "metadata": {},
   "outputs": [
    {
     "ename": "NameError",
     "evalue": "name 'gandalf_wins' is not defined",
     "output_type": "error",
     "traceback": [
      "\u001b[1;31m---------------------------------------------------------------------------\u001b[0m",
      "\u001b[1;31mNameError\u001b[0m                                 Traceback (most recent call last)",
      "\u001b[1;32m<ipython-input-4-ad3ded449a5d>\u001b[0m in \u001b[0;36m<module>\u001b[1;34m\u001b[0m\n\u001b[1;32m----> 1\u001b[1;33m \u001b[0mprint\u001b[0m\u001b[1;33m(\u001b[0m\u001b[1;34m\"total gandalf_wins\"\u001b[0m\u001b[1;33m,\u001b[0m \u001b[0mgandalf_wins\u001b[0m\u001b[1;33m)\u001b[0m\u001b[1;33m\u001b[0m\u001b[1;33m\u001b[0m\u001b[0m\n\u001b[0m\u001b[0;32m      2\u001b[0m \u001b[0mprint\u001b[0m\u001b[1;33m(\u001b[0m\u001b[1;34m\"total saruman_wins\"\u001b[0m\u001b[1;33m,\u001b[0m \u001b[0msaruman_wins\u001b[0m\u001b[1;33m)\u001b[0m\u001b[1;33m\u001b[0m\u001b[1;33m\u001b[0m\u001b[0m\n",
      "\u001b[1;31mNameError\u001b[0m: name 'gandalf_wins' is not defined"
     ]
    }
   ],
   "source": [
    "print(\"total gandalf wins\", gandalf_wins)\n",
    "print(\"total saruman wins\", saruman_wins)"
   ]
  },
  {
   "cell_type": "code",
   "execution_count": null,
   "id": "5cafbe71",
   "metadata": {},
   "outputs": [],
   "source": []
  }
 ],
 "metadata": {
  "kernelspec": {
   "display_name": "Python 3",
   "language": "python",
   "name": "python3"
  },
  "language_info": {
   "codemirror_mode": {
    "name": "ipython",
    "version": 3
   },
   "file_extension": ".py",
   "mimetype": "text/x-python",
   "name": "python",
   "nbconvert_exporter": "python",
   "pygments_lexer": "ipython3",
   "version": "3.8.8"
  }
 },
 "nbformat": 4,
 "nbformat_minor": 5
}
